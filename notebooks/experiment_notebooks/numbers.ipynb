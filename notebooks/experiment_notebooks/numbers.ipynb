{
 "metadata": {
  "name": "",
  "signature": "sha256:8c9d1a8d2eae15a3d2eb901d55b99b38c2535bbd61d645ef760cb59916955ef6"
 },
 "nbformat": 3,
 "nbformat_minor": 0,
 "worksheets": [
  {
   "cells": [
    {
     "cell_type": "code",
     "collapsed": false,
     "input": [
      "import os\n",
      "os.chdir(\"..\")\n",
      "# import the wrapper\n",
      "from compiled_wrapper import scidi_wrapper\n",
      "\n",
      "# general imports\n",
      "\n",
      "import pandas\n",
      "import numpy as np\n",
      "import json\n",
      "import random\n",
      "\n",
      "from matplotlib import pyplot as plt\n",
      "%matplotlib inline"
     ],
     "language": "python",
     "metadata": {},
     "outputs": [],
     "prompt_number": 1
    },
    {
     "cell_type": "code",
     "collapsed": false,
     "input": [
      "def flip(p):\n",
      "    return True if random.random() < p else False"
     ],
     "language": "python",
     "metadata": {},
     "outputs": [],
     "prompt_number": 2
    },
    {
     "cell_type": "code",
     "collapsed": false,
     "input": [
      "data = pandas.read_csv('test_data/digits+noise.csv', header=None)\n",
      "data = data[data.columns[:-1]]"
     ],
     "language": "python",
     "metadata": {},
     "outputs": [],
     "prompt_number": 3
    },
    {
     "cell_type": "code",
     "collapsed": false,
     "input": [
      "data[:5]"
     ],
     "language": "python",
     "metadata": {},
     "outputs": [
      {
       "html": [
        "<div style=\"max-width:1500px;overflow:auto;\">\n",
        "<table border=\"1\" class=\"dataframe\">\n",
        "  <thead>\n",
        "    <tr style=\"text-align: right;\">\n",
        "      <th></th>\n",
        "      <th>0</th>\n",
        "      <th>1</th>\n",
        "      <th>2</th>\n",
        "      <th>3</th>\n",
        "      <th>4</th>\n",
        "      <th>5</th>\n",
        "      <th>6</th>\n",
        "      <th>7</th>\n",
        "      <th>8</th>\n",
        "      <th>9</th>\n",
        "      <th>...</th>\n",
        "      <th>14</th>\n",
        "      <th>15</th>\n",
        "      <th>16</th>\n",
        "      <th>17</th>\n",
        "      <th>18</th>\n",
        "      <th>19</th>\n",
        "      <th>20</th>\n",
        "      <th>21</th>\n",
        "      <th>22</th>\n",
        "      <th>23</th>\n",
        "    </tr>\n",
        "  </thead>\n",
        "  <tbody>\n",
        "    <tr>\n",
        "      <th>0</th>\n",
        "      <td>6</td>\n",
        "      <td>2</td>\n",
        "      <td>2</td>\n",
        "      <td>7</td>\n",
        "      <td>5</td>\n",
        "      <td>1</td>\n",
        "      <td>1</td>\n",
        "      <td>3</td>\n",
        "      <td>5</td>\n",
        "      <td>1</td>\n",
        "      <td>...</td>\n",
        "      <td>1</td>\n",
        "      <td>3</td>\n",
        "      <td>5</td>\n",
        "      <td>8</td>\n",
        "      <td>1</td>\n",
        "      <td>3</td>\n",
        "      <td>7</td>\n",
        "      <td>4</td>\n",
        "      <td>4</td>\n",
        "      <td>6</td>\n",
        "    </tr>\n",
        "    <tr>\n",
        "      <th>1</th>\n",
        "      <td>6</td>\n",
        "      <td>2</td>\n",
        "      <td>2</td>\n",
        "      <td>7</td>\n",
        "      <td>5</td>\n",
        "      <td>1</td>\n",
        "      <td>1</td>\n",
        "      <td>8</td>\n",
        "      <td>5</td>\n",
        "      <td>1</td>\n",
        "      <td>...</td>\n",
        "      <td>1</td>\n",
        "      <td>3</td>\n",
        "      <td>5</td>\n",
        "      <td>1</td>\n",
        "      <td>1</td>\n",
        "      <td>3</td>\n",
        "      <td>7</td>\n",
        "      <td>4</td>\n",
        "      <td>4</td>\n",
        "      <td>6</td>\n",
        "    </tr>\n",
        "    <tr>\n",
        "      <th>2</th>\n",
        "      <td>6</td>\n",
        "      <td>2</td>\n",
        "      <td>2</td>\n",
        "      <td>7</td>\n",
        "      <td>5</td>\n",
        "      <td>1</td>\n",
        "      <td>1</td>\n",
        "      <td>3</td>\n",
        "      <td>5</td>\n",
        "      <td>1</td>\n",
        "      <td>...</td>\n",
        "      <td>1</td>\n",
        "      <td>3</td>\n",
        "      <td>5</td>\n",
        "      <td>1</td>\n",
        "      <td>1</td>\n",
        "      <td>3</td>\n",
        "      <td>7</td>\n",
        "      <td>8</td>\n",
        "      <td>4</td>\n",
        "      <td>6</td>\n",
        "    </tr>\n",
        "    <tr>\n",
        "      <th>3</th>\n",
        "      <td>6</td>\n",
        "      <td>2</td>\n",
        "      <td>2</td>\n",
        "      <td>7</td>\n",
        "      <td>5</td>\n",
        "      <td>1</td>\n",
        "      <td>1</td>\n",
        "      <td>3</td>\n",
        "      <td>8</td>\n",
        "      <td>1</td>\n",
        "      <td>...</td>\n",
        "      <td>1</td>\n",
        "      <td>3</td>\n",
        "      <td>5</td>\n",
        "      <td>1</td>\n",
        "      <td>1</td>\n",
        "      <td>3</td>\n",
        "      <td>7</td>\n",
        "      <td>4</td>\n",
        "      <td>4</td>\n",
        "      <td>6</td>\n",
        "    </tr>\n",
        "    <tr>\n",
        "      <th>4</th>\n",
        "      <td>6</td>\n",
        "      <td>2</td>\n",
        "      <td>8</td>\n",
        "      <td>7</td>\n",
        "      <td>5</td>\n",
        "      <td>1</td>\n",
        "      <td>1</td>\n",
        "      <td>3</td>\n",
        "      <td>5</td>\n",
        "      <td>1</td>\n",
        "      <td>...</td>\n",
        "      <td>1</td>\n",
        "      <td>3</td>\n",
        "      <td>5</td>\n",
        "      <td>1</td>\n",
        "      <td>1</td>\n",
        "      <td>3</td>\n",
        "      <td>7</td>\n",
        "      <td>4</td>\n",
        "      <td>4</td>\n",
        "      <td>6</td>\n",
        "    </tr>\n",
        "  </tbody>\n",
        "</table>\n",
        "<p>5 rows \u00d7 24 columns</p>\n",
        "</div>"
       ],
       "metadata": {},
       "output_type": "pyout",
       "prompt_number": 4,
       "text": [
        "   0   1   2   3   4   5   6   7   8   9  ...  14  15  16  17  18  19  20  21  \\\n",
        "0   6   2   2   7   5   1   1   3   5   1 ...   1   3   5   8   1   3   7   4   \n",
        "1   6   2   2   7   5   1   1   8   5   1 ...   1   3   5   1   1   3   7   4   \n",
        "2   6   2   2   7   5   1   1   3   5   1 ...   1   3   5   1   1   3   7   8   \n",
        "3   6   2   2   7   5   1   1   3   8   1 ...   1   3   5   1   1   3   7   4   \n",
        "4   6   2   8   7   5   1   1   3   5   1 ...   1   3   5   1   1   3   7   4   \n",
        "\n",
        "   22  23  \n",
        "0   4   6  \n",
        "1   4   6  \n",
        "2   4   6  \n",
        "3   4   6  \n",
        "4   4   6  \n",
        "\n",
        "[5 rows x 24 columns]"
       ]
      }
     ],
     "prompt_number": 4
    },
    {
     "cell_type": "code",
     "collapsed": false,
     "input": [
      "# convert data items to string\n",
      "str_data = data.values.astype(str)"
     ],
     "language": "python",
     "metadata": {},
     "outputs": [],
     "prompt_number": 5
    },
    {
     "cell_type": "code",
     "collapsed": false,
     "input": [
      "sw = scidi_wrapper.ScidiWrapper()"
     ],
     "language": "python",
     "metadata": {},
     "outputs": [],
     "prompt_number": 6
    },
    {
     "cell_type": "code",
     "collapsed": false,
     "input": [
      "sw.setData(str_data)"
     ],
     "language": "python",
     "metadata": {},
     "outputs": [],
     "prompt_number": 17
    },
    {
     "cell_type": "code",
     "collapsed": false,
     "input": [
      "sw.makeRules(0.0001, 0.87, 0.85, 1)\n",
      "print(len(sw.getRules()))"
     ],
     "language": "python",
     "metadata": {},
     "outputs": []
    },
    {
     "cell_type": "code",
     "collapsed": false,
     "input": [
      "sw.getRules()[1483]"
     ],
     "language": "python",
     "metadata": {},
     "outputs": [
      {
       "metadata": {},
       "output_type": "pyout",
       "prompt_number": 27,
       "text": [
        "'20= not 5 => 11=1'"
       ]
      }
     ],
     "prompt_number": 27
    },
    {
     "cell_type": "code",
     "collapsed": false,
     "input": [
      "np.array(map (len, sw.getRules())).argmax()"
     ],
     "language": "python",
     "metadata": {},
     "outputs": [
      {
       "metadata": {},
       "output_type": "pyout",
       "prompt_number": 28,
       "text": [
        "1587"
       ]
      }
     ],
     "prompt_number": 28
    },
    {
     "cell_type": "code",
     "collapsed": false,
     "input": [
      "features = [[[0, 0, 0],\n",
      "             [0, 0, 0],\n",
      "             [0, 0, 0],],\n",
      "            [[1, 1, 1],\n",
      "             [0, 0, 0],\n",
      "             [0, 0, 0],],\n",
      "            [[0, 0, 1],\n",
      "             [0, 0, 1],\n",
      "             [0, 0, 1],],\n",
      "            [[0, 0, 0],\n",
      "             [0, 0, 0],\n",
      "             [1, 1, 1],],\n",
      "            [[1, 0, 0],\n",
      "             [1, 0, 0],\n",
      "             [1, 0, 0],],\n",
      "            [[0, 0, 1],\n",
      "             [0, 1, 0],\n",
      "             [1, 0, 0],],\n",
      "            [[1, 0, 0],\n",
      "             [0, 1, 0],\n",
      "             [0, 0, 1],],\n",
      "            [[1, 1, 1],\n",
      "             [1, 1, 1],\n",
      "             [1, 1, 1],]]"
     ],
     "language": "python",
     "metadata": {},
     "outputs": [],
     "prompt_number": 26
    },
    {
     "cell_type": "code",
     "collapsed": false,
     "input": [
      "def getVisualizationMatrix(obj):\n",
      "    obj_img = np.empty((0,12))\n",
      "    for i in range(6):\n",
      "        current_raw = np.empty((3,0))\n",
      "        for j in range(4):\n",
      "            current_raw = np.concatenate((current_raw, np.array(features[obj[i*4 + j] - 1])), axis = 1)\n",
      "        obj_img = np.concatenate((obj_img, current_raw), axis = 0)\n",
      "    return obj_img \n",
      "            \n",
      "        "
     ],
     "language": "python",
     "metadata": {},
     "outputs": [],
     "prompt_number": 39
    },
    {
     "cell_type": "code",
     "collapsed": false,
     "input": [
      "img = getVisualizationMatrix(data.iloc[122].values)\n",
      "plt.matshow(img)\n",
      "plt.show()"
     ],
     "language": "python",
     "metadata": {},
     "outputs": [
      {
       "metadata": {},
       "output_type": "display_data",
       "png": "[encoded data removed]",
       "text": [
        "<matplotlib.figure.Figure at 0x7f6b5f7f9b50>"
       ]
      }
     ],
     "prompt_number": 56
    },
    {
     "cell_type": "code",
     "collapsed": false,
     "input": [],
     "language": "python",
     "metadata": {},
     "outputs": [
      {
       "metadata": {},
       "output_type": "display_data",
       "png": "[encoded data removed]",
       "text": [
        "<matplotlib.figure.Figure at 0x7f6b5f8d2490>"
       ]
      }
     ],
     "prompt_number": 47
    },
    {
     "cell_type": "code",
     "collapsed": false,
     "input": [],
     "language": "python",
     "metadata": {},
     "outputs": []
    }
   ],
   "metadata": {}
  }
 ]
}