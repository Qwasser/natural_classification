{
 "cells": [
  {
   "cell_type": "code",
   "execution_count": 1,
   "metadata": {
    "collapsed": true
   },
   "outputs": [],
   "source": [
    "# Подключаем библиотеки\n",
    "import os\n",
    "os.chdir(\"..\")\n",
    "\n",
    "from compiled_wrapper import scidi_wrapper\n",
    "\n",
    "import pandas\n",
    "import numpy as np\n",
    "import json\n",
    "import random\n",
    "import time \n",
    "from matplotlib import pyplot as plt\n",
    "%matplotlib inline"
   ]
  },
  {
   "cell_type": "code",
   "execution_count": 2,
   "metadata": {
    "collapsed": false
   },
   "outputs": [
    {
     "name": "stdout",
     "output_type": "stream",
     "text": [
      "[['6' '2' '2' '7' '5' '1' '1' '3' '5' '1' '1' '3' '5' '1' '1' '3' '5' '8'\n",
      "  '1' '3' '7' '4' '4' '6']\n",
      " ['6' '2' '2' '7' '5' '1' '1' '8' '5' '1' '1' '3' '5' '1' '1' '3' '5' '1'\n",
      "  '1' '3' '7' '4' '4' '6']\n",
      " ['6' '2' '2' '7' '5' '1' '1' '3' '5' '1' '1' '3' '5' '1' '1' '3' '5' '1'\n",
      "  '1' '3' '7' '8' '4' '6']\n",
      " ['6' '2' '2' '7' '5' '1' '1' '3' '8' '1' '1' '3' '5' '1' '1' '3' '5' '1'\n",
      "  '1' '3' '7' '4' '4' '6']\n",
      " ['6' '2' '8' '7' '5' '1' '1' '3' '5' '1' '1' '3' '5' '1' '1' '3' '5' '1'\n",
      "  '1' '3' '7' '4' '4' '6']]\n"
     ]
    }
   ],
   "source": [
    "# Загружаем данные с одинарным шумом\n",
    "data = pandas.read_csv('test_data/numbers/digits+noise.csv', header=None)\n",
    "data = data[data.columns[:-1]]\n",
    "# Преобразуем в строку (оболочка работает пока только со строковым представлением)\n",
    "str_data = data.values.astype(str)\n",
    "print str_data[:5]"
   ]
  },
  {
   "cell_type": "code",
   "execution_count": 3,
   "metadata": {
    "collapsed": false
   },
   "outputs": [
    {
     "data": {
      "text/plain": [
       "24"
      ]
     },
     "execution_count": 3,
     "metadata": {},
     "output_type": "execute_result"
    }
   ],
   "source": [
    "len(str_data[0])"
   ]
  },
  {
   "cell_type": "code",
   "execution_count": 4,
   "metadata": {
    "collapsed": false
   },
   "outputs": [
    {
     "data": {
      "text/plain": [
       "23"
      ]
     },
     "execution_count": 4,
     "metadata": {},
     "output_type": "execute_result"
    }
   ],
   "source": [
    "191 / 8"
   ]
  },
  {
   "cell_type": "markdown",
   "metadata": {},
   "source": [
    "In this task we need rules with negetion. There are no negation in sd library so we need to simulate it with dummy predicates."
   ]
  },
  {
   "cell_type": "code",
   "execution_count": 5,
   "metadata": {
    "collapsed": false
   },
   "outputs": [
    {
     "name": "stdout",
     "output_type": "stream",
     "text": [
      "192\n"
     ]
    }
   ],
   "source": [
    "# Amount of dummy cols we need:\n",
    "print len(str_data[0]) * 8"
   ]
  },
  {
   "cell_type": "code",
   "execution_count": 6,
   "metadata": {
    "collapsed": true
   },
   "outputs": [],
   "source": [
    "# function for dummy negation\n",
    "def makeDummyEncoding(item):\n",
    "    new_item = []\n",
    "    for i in range(len(item)):\n",
    "        for j in range(1, 9):\n",
    "            if item[i] != str(j):\n",
    "                new_item.append('0')\n",
    "            else:\n",
    "                new_item.append('1')\n",
    "    return new_item"
   ]
  },
  {
   "cell_type": "code",
   "execution_count": 7,
   "metadata": {
    "collapsed": false
   },
   "outputs": [
    {
     "data": {
      "text/plain": [
       "'8= not 3 & 9= not 5 => 5= not 5'"
      ]
     },
     "execution_count": 7,
     "metadata": {},
     "output_type": "execute_result"
    }
   ],
   "source": [
    "# Напишем функцию, что правила-отрицания приведет в нормальный вид:\n",
    "test_rule = \"59=0 & 69=0 => 37=0\"\n",
    "\n",
    "def normalizeDummyEncoding(rule):\n",
    "    preds = rule.split()\n",
    "    for i, pred in enumerate(preds):\n",
    "        if '=' in pred and not '=>' in pred:\n",
    "            code, val = pred.split('=')\n",
    "            code = int(code)\n",
    "            shift = (code - 1) / 8 + 1\n",
    "            level = (code - 1) % 8 + 1\n",
    "            if val == '1':\n",
    "                preds[i] = str(shift) + '=' + str(level)\n",
    "            else:\n",
    "                preds[i] = str(shift) + '=' + ' not ' + str(level)\n",
    "                \n",
    "    return \" \".join(preds)\n",
    "\n",
    "normalizeDummyEncoding(test_rule)"
   ]
  },
  {
   "cell_type": "code",
   "execution_count": 8,
   "metadata": {
    "collapsed": false
   },
   "outputs": [],
   "source": [
    "# Let's generate dummy negation data\n",
    "data_with_negations = np.array([makeDummyEncoding(x) for x in str_data])"
   ]
  },
  {
   "cell_type": "code",
   "execution_count": 9,
   "metadata": {
    "collapsed": false
   },
   "outputs": [
    {
     "data": {
      "text/plain": [
       "(360, 192)"
      ]
     },
     "execution_count": 9,
     "metadata": {},
     "output_type": "execute_result"
    }
   ],
   "source": [
    "# Now we have 216 attributes! That is bad \n",
    "data_with_negations.shape"
   ]
  },
  {
   "cell_type": "code",
   "execution_count": 10,
   "metadata": {
    "collapsed": true
   },
   "outputs": [],
   "source": [
    "# Nevertheless, let's generate rules!\n",
    "sw = scidi_wrapper.ScidiWrapper()"
   ]
  },
  {
   "cell_type": "code",
   "execution_count": 11,
   "metadata": {
    "collapsed": false
   },
   "outputs": [
    {
     "data": {
      "text/plain": [
       "array(['0', '0', '0', '0', '0', '1', '0', '0', '0', '1', '0', '0', '0',\n",
       "       '0', '0', '0', '0', '1', '0', '0', '0', '0', '0', '0', '0', '0',\n",
       "       '0', '0', '0', '0', '1', '0', '0', '0', '0', '0', '1', '0', '0',\n",
       "       '0', '1', '0', '0', '0', '0', '0', '0', '0', '1', '0', '0', '0',\n",
       "       '0', '0', '0', '0', '0', '0', '1', '0', '0', '0', '0', '0', '0',\n",
       "       '0', '0', '0', '1', '0', '0', '0', '1', '0', '0', '0', '0', '0',\n",
       "       '0', '0', '1', '0', '0', '0', '0', '0', '0', '0', '0', '0', '1',\n",
       "       '0', '0', '0', '0', '0', '0', '0', '0', '0', '1', '0', '0', '0',\n",
       "       '1', '0', '0', '0', '0', '0', '0', '0', '1', '0', '0', '0', '0',\n",
       "       '0', '0', '0', '0', '0', '1', '0', '0', '0', '0', '0', '0', '0',\n",
       "       '0', '0', '1', '0', '0', '0', '0', '0', '0', '0', '0', '0', '0',\n",
       "       '1', '1', '0', '0', '0', '0', '0', '0', '0', '0', '0', '1', '0',\n",
       "       '0', '0', '0', '0', '0', '0', '0', '0', '0', '0', '1', '0', '0',\n",
       "       '0', '0', '1', '0', '0', '0', '0', '0', '0', '0', '1', '0', '0',\n",
       "       '0', '0', '0', '0', '0', '0', '0', '1', '0', '0'], \n",
       "      dtype='|S1')"
      ]
     },
     "execution_count": 11,
     "metadata": {},
     "output_type": "execute_result"
    }
   ],
   "source": [
    "data_with_negations[0]"
   ]
  },
  {
   "cell_type": "code",
   "execution_count": null,
   "metadata": {
    "collapsed": false
   },
   "outputs": [],
   "source": [
    "%%time\n",
    "sw.setData(data_with_negations[:])\n",
    "sw.makeRulesWithSDGenerator(2, 0.6, 1, 0.95)\n",
    "d2_rules = sw.getRules()\n",
    "print len(d2_rules)\n",
    "print max([len(r) for r in d2_rules])"
   ]
  },
  {
   "cell_type": "code",
   "execution_count": null,
   "metadata": {
    "collapsed": false
   },
   "outputs": [],
   "source": [
    "m_rules = [normalizeDummyEncoding(rule) for rule in d2_rules]"
   ]
  },
  {
   "cell_type": "code",
   "execution_count": null,
   "metadata": {
    "collapsed": true
   },
   "outputs": [],
   "source": [
    "lens = np.array([len(r) for r in m_rules])"
   ]
  },
  {
   "cell_type": "code",
   "execution_count": null,
   "metadata": {
    "collapsed": false
   },
   "outputs": [],
   "source": [
    "f = open('rules_d2.txt', 'w')\n",
    "for item in m_rules:\n",
    "    f.write(\"%s\\n\" % item)"
   ]
  },
  {
   "cell_type": "code",
   "execution_count": null,
   "metadata": {
    "collapsed": true
   },
   "outputs": [],
   "source": [
    "%%time\n",
    "sw.setData(data_with_negations[:])\n",
    "sw.makeRulesWithSDGenerator(3, 0.6, 1, 0.95)\n",
    "d2_rules = sw.getRules()\n",
    "print len(d2_rules)\n",
    "print max([len(r) for r in d2_rules])"
   ]
  },
  {
   "cell_type": "code",
   "execution_count": null,
   "metadata": {
    "collapsed": true
   },
   "outputs": [],
   "source": [
    "m_rules = [normalizeDummyEncoding(rule) for rule in d2_rules]\n",
    "f = open('rules_d3.txt', 'w')\n",
    "for item in m_rules:\n",
    "    f.write(\"%s\\n\" % item)"
   ]
  },
  {
   "cell_type": "code",
   "execution_count": null,
   "metadata": {
    "collapsed": true
   },
   "outputs": [],
   "source": []
  }
 ],
 "metadata": {
  "kernelspec": {
   "display_name": "Python 2",
   "language": "python",
   "name": "python2"
  },
  "language_info": {
   "codemirror_mode": {
    "name": "ipython",
    "version": 2
   },
   "file_extension": ".py",
   "mimetype": "text/x-python",
   "name": "python",
   "nbconvert_exporter": "python",
   "pygments_lexer": "ipython2",
   "version": "2.7.9"
  }
 },
 "nbformat": 4,
 "nbformat_minor": 0
}
