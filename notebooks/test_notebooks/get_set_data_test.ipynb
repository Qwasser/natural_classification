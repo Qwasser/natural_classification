{
 "metadata": {
  "name": "",
  "signature": "sha256:3c2a4e5e20967fb4732f1b3bed479a317c96398359706903f8bef6bbcc550b88"
 },
 "nbformat": 3,
 "nbformat_minor": 0,
 "worksheets": [
  {
   "cells": [
    {
     "cell_type": "markdown",
     "metadata": {},
     "source": [
      "## Basic wrapper tests and usage examples ##"
     ]
    },
    {
     "cell_type": "code",
     "collapsed": false,
     "input": [
      "import os\n",
      "os.chdir(\"..\")\n"
     ],
     "language": "python",
     "metadata": {},
     "outputs": [],
     "prompt_number": 3
    },
    {
     "cell_type": "code",
     "collapsed": false,
     "input": [
      "# import the wrapper\n",
      "from compiled_wrapper import scidi_wrapper"
     ],
     "language": "python",
     "metadata": {},
     "outputs": [
      {
       "ename": "ImportError",
       "evalue": "cannot import name scidi_wrapper",
       "output_type": "pyerr",
       "traceback": [
        "\u001b[0;31m---------------------------------------------------------------------------\u001b[0m\n\u001b[0;31mImportError\u001b[0m                               Traceback (most recent call last)",
        "\u001b[0;32m<ipython-input-4-119f95d0e006>\u001b[0m in \u001b[0;36m<module>\u001b[0;34m()\u001b[0m\n\u001b[1;32m      1\u001b[0m \u001b[0;31m# import the wrapper\u001b[0m\u001b[0;34m\u001b[0m\u001b[0;34m\u001b[0m\u001b[0m\n\u001b[0;32m----> 2\u001b[0;31m \u001b[0;32mfrom\u001b[0m \u001b[0mcompiled_wrapper\u001b[0m \u001b[0;32mimport\u001b[0m \u001b[0mscidi_wrapper\u001b[0m\u001b[0;34m\u001b[0m\u001b[0m\n\u001b[0m",
        "\u001b[0;31mImportError\u001b[0m: cannot import name scidi_wrapper"
       ]
      }
     ],
     "prompt_number": 4
    },
    {
     "cell_type": "code",
     "collapsed": false,
     "input": [
      "# general imports\n",
      "import pandas\n",
      "import numpy as np"
     ],
     "language": "python",
     "metadata": {},
     "outputs": [],
     "prompt_number": 4
    },
    {
     "cell_type": "code",
     "collapsed": false,
     "input": [
      "# data loading\n",
      "data = pandas.read_csv(\"test_data/led_500_5\", header=None)"
     ],
     "language": "python",
     "metadata": {},
     "outputs": [],
     "prompt_number": 5
    },
    {
     "cell_type": "code",
     "collapsed": false,
     "input": [
      "# convert data items to string\n",
      "str_data = data.values.astype(str)\n",
      "str_data[:10]"
     ],
     "language": "python",
     "metadata": {},
     "outputs": [
      {
       "metadata": {},
       "output_type": "pyout",
       "prompt_number": 6,
       "text": [
        "array([['1', '0', '1', '1', '1', '0', '1', '2'],\n",
        "       ['1', '1', '0', '1', '1', '1', '1', '6'],\n",
        "       ['1', '1', '1', '1', '0', '1', '1', '9'],\n",
        "       ['1', '0', '1', '1', '1', '0', '1', '2'],\n",
        "       ['1', '0', '1', '1', '1', '0', '1', '2'],\n",
        "       ['0', '1', '1', '1', '0', '1', '0', '4'],\n",
        "       ['1', '0', '1', '1', '0', '1', '1', '3'],\n",
        "       ['1', '0', '1', '0', '0', '1', '0', '7'],\n",
        "       ['1', '1', '0', '1', '0', '1', '1', '5'],\n",
        "       ['1', '1', '1', '0', '1', '1', '1', '0']], \n",
        "      dtype='|S21')"
       ]
      }
     ],
     "prompt_number": 6
    },
    {
     "cell_type": "code",
     "collapsed": false,
     "input": [
      "sw = scidi_wrapper.ScidiWrapper()"
     ],
     "language": "python",
     "metadata": {},
     "outputs": [],
     "prompt_number": 7
    },
    {
     "cell_type": "code",
     "collapsed": false,
     "input": [
      "sw.setData(str_data[:25])"
     ],
     "language": "python",
     "metadata": {},
     "outputs": [],
     "prompt_number": 8
    },
    {
     "cell_type": "code",
     "collapsed": false,
     "input": [
      "sw.getData()[:10]"
     ],
     "language": "python",
     "metadata": {},
     "outputs": [
      {
       "metadata": {},
       "output_type": "pyout",
       "prompt_number": 9,
       "text": [
        "(('1', '0', '1', '1', '1', '0', '1', '2'),\n",
        " ('1', '1', '0', '1', '1', '1', '1', '6'),\n",
        " ('1', '1', '1', '1', '0', '1', '1', '9'),\n",
        " ('1', '0', '1', '1', '1', '0', '1', '2'),\n",
        " ('1', '0', '1', '1', '1', '0', '1', '2'),\n",
        " ('0', '1', '1', '1', '0', '1', '0', '4'),\n",
        " ('1', '0', '1', '1', '0', '1', '1', '3'),\n",
        " ('1', '0', '1', '0', '0', '1', '0', '7'),\n",
        " ('1', '1', '0', '1', '0', '1', '1', '5'),\n",
        " ('1', '1', '1', '0', '1', '1', '1', '0'))"
       ]
      }
     ],
     "prompt_number": 9
    },
    {
     "cell_type": "code",
     "collapsed": false,
     "input": [
      "sw.makeRules(.01, 0.7, 0.8, 2)"
     ],
     "language": "python",
     "metadata": {},
     "outputs": [],
     "prompt_number": 10
    },
    {
     "cell_type": "code",
     "collapsed": false,
     "input": [
      "np.array(sw.getFisher()).max()"
     ],
     "language": "python",
     "metadata": {},
     "outputs": [
      {
       "metadata": {},
       "output_type": "pyout",
       "prompt_number": 11,
       "text": [
        "0.0016479790350326612"
       ]
      }
     ],
     "prompt_number": 11
    },
    {
     "cell_type": "code",
     "collapsed": false,
     "input": [
      "sw.getRules()"
     ],
     "language": "python",
     "metadata": {},
     "outputs": [
      {
       "metadata": {},
       "output_type": "pyout",
       "prompt_number": 13,
       "text": [
        "('4=1 & 6=1 => 2=1',\n",
        " '4=1 & 6= not 0 => 2=1',\n",
        " '4=1 & 8= not 2 => 2=1',\n",
        " '4= not 0 & 6=1 => 2=1',\n",
        " '4= not 0 & 6= not 0 => 2=1',\n",
        " '4= not 0 & 8= not 2 => 2=1',\n",
        " '4=1 & 6=1 => 2= not 0',\n",
        " '4=1 & 6= not 0 => 2= not 0',\n",
        " '4=1 & 8= not 2 => 2= not 0',\n",
        " '4= not 0 & 6=1 => 2= not 0',\n",
        " '4= not 0 & 6= not 0 => 2= not 0',\n",
        " '4= not 0 & 8= not 2 => 2= not 0',\n",
        " '8= not 5 => 3=1',\n",
        " '8=5 => 3=0',\n",
        " '8=5 => 3= not 1',\n",
        " '8= not 5 => 3= not 0',\n",
        " '2=1 & 8= not 0 => 4=1',\n",
        " '2= not 0 & 8= not 0 => 4=1',\n",
        " '2=1 & 8= not 0 => 4= not 0',\n",
        " '2= not 0 & 8= not 0 => 4= not 0',\n",
        " '8= not 2 => 6=1',\n",
        " '8=2 => 6=0',\n",
        " '8=2 => 6= not 1',\n",
        " '8= not 2 => 6= not 0')"
       ]
      }
     ],
     "prompt_number": 13
    },
    {
     "cell_type": "code",
     "collapsed": false,
     "input": [
      "sw."
     ],
     "language": "python",
     "metadata": {},
     "outputs": []
    }
   ],
   "metadata": {}
  }
 ]
}