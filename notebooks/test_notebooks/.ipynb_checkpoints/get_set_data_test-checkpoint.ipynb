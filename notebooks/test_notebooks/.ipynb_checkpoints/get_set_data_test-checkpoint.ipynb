{
 "metadata": {
  "name": "",
  "signature": "sha256:80693eabb19ba6731a541488fd084592d1f7b2299354aae4015a3efc8792a375"
 },
 "nbformat": 3,
 "nbformat_minor": 0,
 "worksheets": [
  {
   "cells": [
    {
     "cell_type": "markdown",
     "metadata": {},
     "source": [
      "## Basic wrapper tests and usage examples ##"
     ]
    },
    {
     "cell_type": "code",
     "collapsed": false,
     "input": [
      "import os\n",
      "os.chdir(\"..\")\n"
     ],
     "language": "python",
     "metadata": {},
     "outputs": [],
     "prompt_number": 2
    },
    {
     "cell_type": "code",
     "collapsed": false,
     "input": [
      "# import the wrapper\n",
      "from compiled_wrapper import scidi_wrapper"
     ],
     "language": "python",
     "metadata": {},
     "outputs": [],
     "prompt_number": 3
    },
    {
     "cell_type": "code",
     "collapsed": false,
     "input": [
      "# general imports\n",
      "import pandas\n",
      "import numpy as np"
     ],
     "language": "python",
     "metadata": {},
     "outputs": [],
     "prompt_number": 4
    },
    {
     "cell_type": "code",
     "collapsed": false,
     "input": [
      "# data loading\n",
      "data = pandas.read_csv(\"test_data/led_500_5\", header=None)"
     ],
     "language": "python",
     "metadata": {},
     "outputs": [],
     "prompt_number": 5
    },
    {
     "cell_type": "code",
     "collapsed": false,
     "input": [
      "# convert data items to string\n",
      "str_data = data.values.astype(str)\n",
      "str_data[:10]"
     ],
     "language": "python",
     "metadata": {},
     "outputs": [
      {
       "metadata": {},
       "output_type": "pyout",
       "prompt_number": 6,
       "text": [
        "array([['1', '0', '1', '1', '1', '0', '1', '2'],\n",
        "       ['1', '1', '0', '1', '1', '1', '1', '6'],\n",
        "       ['1', '1', '1', '1', '0', '1', '1', '9'],\n",
        "       ['1', '0', '1', '1', '1', '0', '1', '2'],\n",
        "       ['1', '0', '1', '1', '1', '0', '1', '2'],\n",
        "       ['0', '1', '1', '1', '0', '1', '0', '4'],\n",
        "       ['1', '0', '1', '1', '0', '1', '1', '3'],\n",
        "       ['1', '0', '1', '0', '0', '1', '0', '7'],\n",
        "       ['1', '1', '0', '1', '0', '1', '1', '5'],\n",
        "       ['1', '1', '1', '0', '1', '1', '1', '0']], \n",
        "      dtype='|S21')"
       ]
      }
     ],
     "prompt_number": 6
    },
    {
     "cell_type": "code",
     "collapsed": false,
     "input": [
      "sw = scidi_wrapper.ScidiWrapper()"
     ],
     "language": "python",
     "metadata": {},
     "outputs": [],
     "prompt_number": 7
    },
    {
     "cell_type": "code",
     "collapsed": false,
     "input": [
      "sw.setData(str_data[:25])"
     ],
     "language": "python",
     "metadata": {},
     "outputs": [],
     "prompt_number": 8
    },
    {
     "cell_type": "code",
     "collapsed": false,
     "input": [
      "sw.getData()[:10]"
     ],
     "language": "python",
     "metadata": {},
     "outputs": [
      {
       "metadata": {},
       "output_type": "pyout",
       "prompt_number": 9,
       "text": [
        "(('1', '0', '1', '1', '1', '0', '1', '2'),\n",
        " ('1', '1', '0', '1', '1', '1', '1', '6'),\n",
        " ('1', '1', '1', '1', '0', '1', '1', '9'),\n",
        " ('1', '0', '1', '1', '1', '0', '1', '2'),\n",
        " ('1', '0', '1', '1', '1', '0', '1', '2'),\n",
        " ('0', '1', '1', '1', '0', '1', '0', '4'),\n",
        " ('1', '0', '1', '1', '0', '1', '1', '3'),\n",
        " ('1', '0', '1', '0', '0', '1', '0', '7'),\n",
        " ('1', '1', '0', '1', '0', '1', '1', '5'),\n",
        " ('1', '1', '1', '0', '1', '1', '1', '0'))"
       ]
      }
     ],
     "prompt_number": 9
    },
    {
     "cell_type": "code",
     "collapsed": false,
     "input": [
      "sw.makeRules(.01, 0.7, 0.8, 2)"
     ],
     "language": "python",
     "metadata": {},
     "outputs": [],
     "prompt_number": 10
    },
    {
     "cell_type": "code",
     "collapsed": false,
     "input": [
      "np.array(sw.getFisher()).max()"
     ],
     "language": "python",
     "metadata": {},
     "outputs": [
      {
       "metadata": {},
       "output_type": "pyout",
       "prompt_number": 11,
       "text": [
        "0.0016479790350326612"
       ]
      }
     ],
     "prompt_number": 11
    },
    {
     "cell_type": "code",
     "collapsed": false,
     "input": [
      "|"
     ],
     "language": "python",
     "metadata": {},
     "outputs": []
    }
   ],
   "metadata": {}
  }
 ]
}