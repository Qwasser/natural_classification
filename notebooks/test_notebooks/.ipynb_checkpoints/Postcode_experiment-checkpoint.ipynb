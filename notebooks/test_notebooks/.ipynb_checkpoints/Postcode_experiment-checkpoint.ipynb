{
 "metadata": {
  "name": "",
  "signature": "sha256:7443fe8cde8c5285976b71279433d1d51830e259c68939b417410a0f190220bb"
 },
 "nbformat": 3,
 "nbformat_minor": 0,
 "worksheets": [
  {
   "cells": [
    {
     "cell_type": "code",
     "collapsed": false,
     "input": [
      "import os\n",
      "os.chdir(\"notebooks\")\n",
      "\n",
      "# import the wrapper\n",
      "from compiled_wrapper import scidi_wrapper\n",
      "\n",
      "# general imports\n",
      "import pandas\n",
      "import numpy as np\n",
      "import json"
     ],
     "language": "python",
     "metadata": {},
     "outputs": [],
     "prompt_number": 13
    },
    {
     "cell_type": "code",
     "collapsed": false,
     "input": [
      "os.listdir(os.getcwd())"
     ],
     "language": "python",
     "metadata": {},
     "outputs": [
      {
       "metadata": {},
       "output_type": "pyout",
       "prompt_number": 14,
       "text": [
        "['test_data', 'compiled_wrapper', 'test_notebooks']"
       ]
      }
     ],
     "prompt_number": 14
    },
    {
     "cell_type": "code",
     "collapsed": false,
     "input": [
      "with open('test_data/post-indexes.json') as data_file:\n",
      "    data = json.load(data_file)\n",
      "print data"
     ],
     "language": "python",
     "metadata": {},
     "outputs": [
      {
       "output_type": "stream",
       "stream": "stdout",
       "text": [
        "{u'4(3)': [u'1', u'0', u'1', u'0', u'1', u'0', u'1', u'0', u'0'], u'14(3)': [u'1', u'0', u'1', u'0', u'1', u'0', u'1', u'0', u'0'], u'10(9)': [u'1', u'1', u'0', u'1', u'1', u'0', u'1', u'0', u'0'], u'16(5)': [u'1', u'1', u'0', u'0', u'1', u'0', u'0', u'1', u'1'], u'19(8)': [u'1', u'1', u'0', u'1', u'1', u'1', u'0', u'1', u'1'], u'7(6)': [u'0', u'0', u'1', u'0', u'1', u'1', u'0', u'1', u'1'], u'2(1)': [u'0', u'0', u'1', u'1', u'0', u'0', u'0', u'1', u'0'], u'17(6)': [u'0', u'0', u'1', u'0', u'1', u'1', u'0', u'1', u'1'], u'6(5)': [u'1', u'1', u'0', u'0', u'1', u'0', u'0', u'1', u'1'], u'11(0)': [u'1', u'1', u'0', u'1', u'0', u'1', u'0', u'1', u'1'], u'3(2)': [u'1', u'0', u'0', u'1', u'0', u'0', u'1', u'0', u'1'], u'8(7)': [u'1', u'0', u'1', u'0', u'0', u'1', u'0', u'0', u'0'], u'13(2)': [u'1', u'0', u'0', u'1', u'0', u'0', u'1', u'0', u'1'], u'1(0)': [u'1', u'1', u'0', u'1', u'0', u'1', u'0', u'1', u'1'], u'20(9)': [u'1', u'1', u'0', u'1', u'1', u'0', u'1', u'0', u'0'], u'15(4)': [u'0', u'1', u'0', u'1', u'1', u'0', u'0', u'1', u'0'], u'18(7)': [u'1', u'0', u'1', u'0', u'0', u'1', u'0', u'0', u'0'], u'12(1)': [u'0', u'0', u'1', u'1', u'0', u'0', u'0', u'1', u'0'], u'9(8)': [u'1', u'1', u'0', u'1', u'1', u'1', u'0', u'1', u'1'], u'5(4)': [u'0', u'1', u'0', u'1', u'1', u'0', u'0', u'1', u'0']}\n"
       ]
      }
     ],
     "prompt_number": 27
    },
    {
     "cell_type": "code",
     "collapsed": false,
     "input": [
      "inds = []\n",
      "items = []\n",
      "classes = []\n",
      "for item in data:\n",
      "    items.append(data[item])\n",
      "    inds.append(int(item.split('(')[0]))\n",
      "    classes.append(int(item.split('(')[1][:-1]))"
     ],
     "language": "python",
     "metadata": {},
     "outputs": [],
     "prompt_number": 16
    },
    {
     "cell_type": "code",
     "collapsed": false,
     "input": [
      "items = np.array(items)\n",
      "inds = np.array(inds)\n",
      "classes = np.array(classes)"
     ],
     "language": "python",
     "metadata": {},
     "outputs": [],
     "prompt_number": 17
    },
    {
     "cell_type": "code",
     "collapsed": false,
     "input": [
      "copied_items.shape"
     ],
     "language": "python",
     "metadata": {},
     "outputs": [
      {
       "metadata": {},
       "output_type": "pyout",
       "prompt_number": 62,
       "text": [
        "(200, 9)"
       ]
      }
     ],
     "prompt_number": 62
    },
    {
     "cell_type": "code",
     "collapsed": false,
     "input": [
      "inds[inds.argsort()]"
     ],
     "language": "python",
     "metadata": {},
     "outputs": [
      {
       "metadata": {},
       "output_type": "pyout",
       "prompt_number": 63,
       "text": [
        "array([ 1,  2,  3,  4,  5,  6,  7,  8,  9, 10, 11, 12, 13, 14, 15, 16, 17,\n",
        "       18, 19, 20])"
       ]
      }
     ],
     "prompt_number": 63
    },
    {
     "cell_type": "code",
     "collapsed": false,
     "input": [
      "sorted_items = items[inds.argsort()]\n",
      "soted_classes = classes[inds.argsort()]"
     ],
     "language": "python",
     "metadata": {},
     "outputs": [],
     "prompt_number": 19
    },
    {
     "cell_type": "code",
     "collapsed": false,
     "input": [
      "sw = scidi_wrapper.ScidiWrapper()"
     ],
     "language": "python",
     "metadata": {},
     "outputs": [],
     "prompt_number": 20
    },
    {
     "cell_type": "code",
     "collapsed": false,
     "input": [
      "to_str = np.vectorize(str)"
     ],
     "language": "python",
     "metadata": {},
     "outputs": [],
     "prompt_number": 21
    },
    {
     "cell_type": "code",
     "collapsed": false,
     "input": [
      "string_sorted_items = to_str(sorted_items)"
     ],
     "language": "python",
     "metadata": {},
     "outputs": [],
     "prompt_number": 22
    },
    {
     "cell_type": "code",
     "collapsed": false,
     "input": [
      "sw.setData(string_sorted_items)"
     ],
     "language": "python",
     "metadata": {},
     "outputs": [],
     "prompt_number": 23
    },
    {
     "cell_type": "code",
     "collapsed": false,
     "input": [
      "sw.makeRules(0.05, 0.01, 0.2, 2)\n",
      "print(len(sw.getRules()))\n",
      "sw.getRules()"
     ],
     "language": "python",
     "metadata": {},
     "outputs": [
      {
       "output_type": "stream",
       "stream": "stdout",
       "text": [
        "188\n"
       ]
      },
      {
       "metadata": {},
       "output_type": "pyout",
       "prompt_number": 66,
       "text": [
        "('8=1 => 1=1',\n",
        " '8= not 1 => 1=1',\n",
        " '8=0 => 1=1',\n",
        " '8= not 0 => 1=1',\n",
        " '2= not 1 & 8=1 => 1=0',\n",
        " '2= not 1 & 8= not 0 => 1=0',\n",
        " '2=0 & 8=1 => 1=0',\n",
        " '2=0 & 8= not 0 => 1=0',\n",
        " '3=1 & 8=1 => 1=0',\n",
        " '3=1 & 8= not 0 => 1=0',\n",
        " '3= not 0 & 8=1 => 1=0',\n",
        " '3= not 0 & 8= not 0 => 1=0',\n",
        " '8=1 => 1=0',\n",
        " '8=1 & 9= not 1 => 1=0',\n",
        " '8=1 & 9=0 => 1=0',\n",
        " '8= not 0 => 1=0',\n",
        " '8= not 0 & 9= not 1 => 1=0',\n",
        " '8= not 0 & 9=0 => 1=0',\n",
        " '2= not 1 & 8=1 => 1= not 1',\n",
        " '2= not 1 & 8= not 0 => 1= not 1',\n",
        " '2=0 & 8=1 => 1= not 1',\n",
        " '2=0 & 8= not 0 => 1= not 1',\n",
        " '3=1 & 8=1 => 1= not 1',\n",
        " '3=1 & 8= not 0 => 1= not 1',\n",
        " '3= not 0 & 8=1 => 1= not 1',\n",
        " '3= not 0 & 8= not 0 => 1= not 1',\n",
        " '8=1 => 1= not 1',\n",
        " '8=1 & 9= not 1 => 1= not 1',\n",
        " '8=1 & 9=0 => 1= not 1',\n",
        " '8= not 0 => 1= not 1',\n",
        " '8= not 0 & 9= not 1 => 1= not 1',\n",
        " '8= not 0 & 9=0 => 1= not 1',\n",
        " '8=1 => 1= not 0',\n",
        " '8= not 1 => 1= not 0',\n",
        " '8=0 => 1= not 0',\n",
        " '8= not 0 => 1= not 0',\n",
        " '1=1 & 8=1 => 2=1',\n",
        " '1=1 & 8= not 0 => 2=1',\n",
        " '1= not 0 & 8=1 => 2=1',\n",
        " '1= not 0 & 8= not 0 => 2=1',\n",
        " '3= not 1 => 2=1',\n",
        " '3=0 => 2=1',\n",
        " '4=1 & 5=1 => 2=1',\n",
        " '4=1 & 5= not 0 => 2=1',\n",
        " '4= not 0 & 5=1 => 2=1',\n",
        " '4= not 0 & 5= not 0 => 2=1',\n",
        " '3=1 => 2=0',\n",
        " '3= not 0 => 2=0',\n",
        " '3=1 => 2= not 1',\n",
        " '3= not 0 => 2= not 1',\n",
        " '1=1 & 8=1 => 2= not 0',\n",
        " '1=1 & 8= not 0 => 2= not 0',\n",
        " '1= not 0 & 8=1 => 2= not 0',\n",
        " '1= not 0 & 8= not 0 => 2= not 0',\n",
        " '3= not 1 => 2= not 0',\n",
        " '3=0 => 2= not 0',\n",
        " '4=1 & 5=1 => 2= not 0',\n",
        " '4=1 & 5= not 0 => 2= not 0',\n",
        " '4= not 0 & 5=1 => 2= not 0',\n",
        " '4= not 0 & 5= not 0 => 2= not 0',\n",
        " '2= not 1 => 3=1',\n",
        " '2=0 => 3=1',\n",
        " '4= not 1 => 3=1',\n",
        " '4=0 => 3=1',\n",
        " '1=1 & 9=1 => 3=0',\n",
        " '1=1 & 9= not 0 => 3=0',\n",
        " '1= not 0 & 9=1 => 3=0',\n",
        " '1= not 0 & 9= not 0 => 3=0',\n",
        " '2=1 => 3=0',\n",
        " '2= not 0 => 3=0',\n",
        " '4=1 => 3=0',\n",
        " '4= not 1 => 3=0',\n",
        " '4=0 => 3=0',\n",
        " '4= not 0 => 3=0',\n",
        " '1=1 & 9=1 => 3= not 1',\n",
        " '1=1 & 9= not 0 => 3= not 1',\n",
        " '1= not 0 & 9=1 => 3= not 1',\n",
        " '1= not 0 & 9= not 0 => 3= not 1',\n",
        " '2=1 => 3= not 1',\n",
        " '2= not 0 => 3= not 1',\n",
        " '4=1 => 3= not 1',\n",
        " '4= not 1 => 3= not 1',\n",
        " '4=0 => 3= not 1',\n",
        " '4= not 0 => 3= not 1',\n",
        " '2= not 1 => 3= not 0',\n",
        " '2=0 => 3= not 0',\n",
        " '4= not 1 => 3= not 0',\n",
        " '4=0 => 3= not 0',\n",
        " '3=1 => 4=1',\n",
        " '3= not 1 => 4=1',\n",
        " '3=0 => 4=1',\n",
        " '3= not 0 => 4=1',\n",
        " '3=1 => 4=0',\n",
        " '3= not 0 => 4=0',\n",
        " '3=1 => 4= not 1',\n",
        " '3= not 0 => 4= not 1',\n",
        " '3=1 => 4= not 0',\n",
        " '3= not 1 => 4= not 0',\n",
        " '3=0 => 4= not 0',\n",
        " '3= not 0 => 4= not 0',\n",
        " '7= not 1 => 6=1',\n",
        " '7=0 => 6=1',\n",
        " '7=1 => 6=0',\n",
        " '7= not 1 => 6=0',\n",
        " '7=0 => 6=0',\n",
        " '7= not 0 => 6=0',\n",
        " '7=1 => 6= not 1',\n",
        " '7= not 1 => 6= not 1',\n",
        " '7=0 => 6= not 1',\n",
        " '7= not 0 => 6= not 1',\n",
        " '7= not 1 => 6= not 0',\n",
        " '7=0 => 6= not 0',\n",
        " '1=1 & 6= not 1 => 7=1',\n",
        " '1=1 & 6=0 => 7=1',\n",
        " '1= not 0 & 6= not 1 => 7=1',\n",
        " '1= not 0 & 6=0 => 7=1',\n",
        " '6= not 1 => 7=1',\n",
        " '6= not 1 & 8= not 1 => 7=1',\n",
        " '6= not 1 & 8=0 => 7=1',\n",
        " '6=0 => 7=1',\n",
        " '6=0 & 8= not 1 => 7=1',\n",
        " '6=0 & 8=0 => 7=1',\n",
        " '8= not 1 => 7=1',\n",
        " '8=0 => 7=1',\n",
        " '6=1 => 7=0',\n",
        " '6= not 1 => 7=0',\n",
        " '6=0 => 7=0',\n",
        " '6= not 0 => 7=0',\n",
        " '8=1 => 7=0',\n",
        " '8= not 1 => 7=0',\n",
        " '8=0 => 7=0',\n",
        " '8= not 0 => 7=0',\n",
        " '6=1 => 7= not 1',\n",
        " '6= not 1 => 7= not 1',\n",
        " '6=0 => 7= not 1',\n",
        " '6= not 0 => 7= not 1',\n",
        " '8=1 => 7= not 1',\n",
        " '8= not 1 => 7= not 1',\n",
        " '8=0 => 7= not 1',\n",
        " '8= not 0 => 7= not 1',\n",
        " '1=1 & 6= not 1 => 7= not 0',\n",
        " '1=1 & 6=0 => 7= not 0',\n",
        " '1= not 0 & 6= not 1 => 7= not 0',\n",
        " '1= not 0 & 6=0 => 7= not 0',\n",
        " '6= not 1 => 7= not 0',\n",
        " '6= not 1 & 8= not 1 => 7= not 0',\n",
        " '6= not 1 & 8=0 => 7= not 0',\n",
        " '6=0 => 7= not 0',\n",
        " '6=0 & 8= not 1 => 7= not 0',\n",
        " '6=0 & 8=0 => 7= not 0',\n",
        " '8= not 1 => 7= not 0',\n",
        " '8=0 => 7= not 0',\n",
        " '1=1 => 8=1',\n",
        " '1= not 1 => 8=1',\n",
        " '1=0 => 8=1',\n",
        " '1= not 0 => 8=1',\n",
        " '7= not 1 => 8=1',\n",
        " '7=0 => 8=1',\n",
        " '1=1 => 8=0',\n",
        " '1=1 & 2= not 1 => 8=0',\n",
        " '1=1 & 2=0 => 8=0',\n",
        " '1=1 & 9= not 1 => 8=0',\n",
        " '1=1 & 9=0 => 8=0',\n",
        " '1= not 0 => 8=0',\n",
        " '1= not 0 & 2= not 1 => 8=0',\n",
        " '1= not 0 & 2=0 => 8=0',\n",
        " '1= not 0 & 9= not 1 => 8=0',\n",
        " '1= not 0 & 9=0 => 8=0',\n",
        " '7=1 => 8=0',\n",
        " '7= not 0 => 8=0',\n",
        " '1=1 => 8= not 1',\n",
        " '1=1 & 2= not 1 => 8= not 1',\n",
        " '1=1 & 2=0 => 8= not 1',\n",
        " '1=1 & 9= not 1 => 8= not 1',\n",
        " '1=1 & 9=0 => 8= not 1',\n",
        " '1= not 0 => 8= not 1',\n",
        " '1= not 0 & 2= not 1 => 8= not 1',\n",
        " '1= not 0 & 2=0 => 8= not 1',\n",
        " '1= not 0 & 9= not 1 => 8= not 1',\n",
        " '1= not 0 & 9=0 => 8= not 1',\n",
        " '7=1 => 8= not 1',\n",
        " '7= not 0 => 8= not 1',\n",
        " '1=1 => 8= not 0',\n",
        " '1= not 1 => 8= not 0',\n",
        " '1=0 => 8= not 0',\n",
        " '1= not 0 => 8= not 0',\n",
        " '7= not 1 => 8= not 0',\n",
        " '7=0 => 8= not 0')"
       ]
      }
     ],
     "prompt_number": 66
    },
    {
     "cell_type": "code",
     "collapsed": false,
     "input": [
      "sw.makeClasses()"
     ],
     "language": "python",
     "metadata": {},
     "outputs": [],
     "prompt_number": 50
    },
    {
     "cell_type": "code",
     "collapsed": false,
     "input": [
      "sw.getClasses()"
     ],
     "language": "python",
     "metadata": {},
     "outputs": [
      {
       "metadata": {},
       "output_type": "pyout",
       "prompt_number": 51,
       "text": [
        "(0, 1, 2, 3, 4, 0, 5, 6, 0, 7, 0, 1, 2, 3, 4, 0, 5, 6, 0, 7)"
       ]
      }
     ],
     "prompt_number": 51
    },
    {
     "cell_type": "code",
     "collapsed": false,
     "input": [
      "soted_classes"
     ],
     "language": "python",
     "metadata": {},
     "outputs": [
      {
       "metadata": {},
       "output_type": "pyout",
       "prompt_number": 52,
       "text": [
        "array([0, 1, 2, 3, 4, 5, 6, 7, 8, 9, 0, 1, 2, 3, 4, 5, 6, 7, 8, 9])"
       ]
      }
     ],
     "prompt_number": 52
    },
    {
     "cell_type": "code",
     "collapsed": false,
     "input": [
      "copied_items = string_sorted_items.repeat(10, axis = 0)"
     ],
     "language": "python",
     "metadata": {},
     "outputs": [],
     "prompt_number": 65
    },
    {
     "cell_type": "code",
     "collapsed": false,
     "input": [
      "sw.setData(copied_items)"
     ],
     "language": "python",
     "metadata": {},
     "outputs": [],
     "prompt_number": 67
    },
    {
     "cell_type": "code",
     "collapsed": false,
     "input": [],
     "language": "python",
     "metadata": {},
     "outputs": []
    }
   ],
   "metadata": {}
  }
 ]
}