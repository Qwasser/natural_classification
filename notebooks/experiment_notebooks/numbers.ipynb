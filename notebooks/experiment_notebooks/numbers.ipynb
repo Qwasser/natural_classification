{
 "metadata": {
  "name": "",
  "signature": "sha256:21dc0f09a63dcc96478e9198f36a48f8566b26ddfdbd8631c5091d59f6b5927e"
 },
 "nbformat": 3,
 "nbformat_minor": 0,
 "worksheets": [
  {
   "cells": [
    {
     "cell_type": "code",
     "collapsed": false,
     "input": [
      "import os\n",
      "os.chdir(\"..\")\n",
      "# import the wrapper\n",
      "from compiled_wrapper import scidi_wrapper\n",
      "\n",
      "# general imports\n",
      "import pandas\n",
      "import numpy as np\n",
      "import json\n",
      "import random"
     ],
     "language": "python",
     "metadata": {},
     "outputs": [],
     "prompt_number": 1
    },
    {
     "cell_type": "code",
     "collapsed": false,
     "input": [
      "def flip(p):\n",
      "    return True if random.random() < p else False"
     ],
     "language": "python",
     "metadata": {},
     "outputs": [],
     "prompt_number": 2
    },
    {
     "cell_type": "code",
     "collapsed": false,
     "input": [
      "# load post index data\n",
      "with open('test_data/positive.seq') as data_file:\n",
      "    lines = data_file.readlines()\n",
      "lines = map(lambda x: x[:-2], lines)"
     ],
     "language": "python",
     "metadata": {},
     "outputs": [],
     "prompt_number": 16
    },
    {
     "cell_type": "code",
     "collapsed": false,
     "input": [
      "classes = map(lambda x: x.split(':')[0], lines)"
     ],
     "language": "python",
     "metadata": {},
     "outputs": [],
     "prompt_number": 18
    },
    {
     "cell_type": "code",
     "collapsed": false,
     "input": [
      "objects = map(lambda x: list(x.split(':')[1]), lines)"
     ],
     "language": "python",
     "metadata": {},
     "outputs": [],
     "prompt_number": 19
    },
    {
     "cell_type": "code",
     "collapsed": false,
     "input": [
      "sw = scidi_wrapper.ScidiWrapper()"
     ],
     "language": "python",
     "metadata": {},
     "outputs": [],
     "prompt_number": 21
    },
    {
     "cell_type": "code",
     "collapsed": false,
     "input": [
      "sw.setData(objects)"
     ],
     "language": "python",
     "metadata": {},
     "outputs": [],
     "prompt_number": 23
    },
    {
     "cell_type": "code",
     "collapsed": false,
     "input": [
      "sw.makeRules(0.05, 0.5, 0.7, 2)\n",
      "print(len(sw.getRules()))"
     ],
     "language": "python",
     "metadata": {},
     "outputs": []
    },
    {
     "cell_type": "code",
     "collapsed": false,
     "input": [],
     "language": "python",
     "metadata": {},
     "outputs": []
    }
   ],
   "metadata": {}
  }
 ]
}