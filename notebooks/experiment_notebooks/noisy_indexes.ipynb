{
 "metadata": {
  "name": "",
  "signature": "sha256:fb9af953181610ba2ef09a0c388ea1d43a5686852fc6af1a6e3319d210d026c0"
 },
 "nbformat": 3,
 "nbformat_minor": 0,
 "worksheets": [
  {
   "cells": [
    {
     "cell_type": "markdown",
     "metadata": {},
     "source": [
      "#Experiments with noised postcode data#"
     ]
    },
    {
     "cell_type": "code",
     "collapsed": false,
     "input": [
      "import os\n",
      "os.chdir(\"..\")\n",
      "# import the wrapper\n",
      "from compiled_wrapper import scidi_wrapper\n",
      "\n",
      "# general imports\n",
      "import pandas\n",
      "import numpy as np\n",
      "import json\n",
      "import random"
     ],
     "language": "python",
     "metadata": {},
     "outputs": [],
     "prompt_number": 1
    },
    {
     "cell_type": "code",
     "collapsed": false,
     "input": [
      "def flip(p):\n",
      "    return True if random.random() < p else False"
     ],
     "language": "python",
     "metadata": {},
     "outputs": [],
     "prompt_number": 2
    },
    {
     "cell_type": "code",
     "collapsed": false,
     "input": [
      "# load post index data\n",
      "with open('test_data/post-indexes.json') as data_file:\n",
      "    data = json.load(data_file)\n",
      "print data"
     ],
     "language": "python",
     "metadata": {},
     "outputs": [
      {
       "output_type": "stream",
       "stream": "stdout",
       "text": [
        "{u'4(3)': [u'1', u'0', u'1', u'0', u'1', u'0', u'1', u'0', u'0'], u'14(3)': [u'1', u'0', u'1', u'0', u'1', u'0', u'1', u'0', u'0'], u'10(9)': [u'1', u'1', u'0', u'1', u'1', u'0', u'1', u'0', u'0'], u'16(5)': [u'1', u'1', u'0', u'0', u'1', u'0', u'0', u'1', u'1'], u'19(8)': [u'1', u'1', u'0', u'1', u'1', u'1', u'0', u'1', u'1'], u'7(6)': [u'0', u'0', u'1', u'0', u'1', u'1', u'0', u'1', u'1'], u'2(1)': [u'0', u'0', u'1', u'1', u'0', u'0', u'0', u'1', u'0'], u'17(6)': [u'0', u'0', u'1', u'0', u'1', u'1', u'0', u'1', u'1'], u'6(5)': [u'1', u'1', u'0', u'0', u'1', u'0', u'0', u'1', u'1'], u'11(0)': [u'1', u'1', u'0', u'1', u'0', u'1', u'0', u'1', u'1'], u'3(2)': [u'1', u'0', u'0', u'1', u'0', u'0', u'1', u'0', u'1'], u'8(7)': [u'1', u'0', u'1', u'0', u'0', u'1', u'0', u'0', u'0'], u'13(2)': [u'1', u'0', u'0', u'1', u'0', u'0', u'1', u'0', u'1'], u'1(0)': [u'1', u'1', u'0', u'1', u'0', u'1', u'0', u'1', u'1'], u'20(9)': [u'1', u'1', u'0', u'1', u'1', u'0', u'1', u'0', u'0'], u'15(4)': [u'0', u'1', u'0', u'1', u'1', u'0', u'0', u'1', u'0'], u'18(7)': [u'1', u'0', u'1', u'0', u'0', u'1', u'0', u'0', u'0'], u'12(1)': [u'0', u'0', u'1', u'1', u'0', u'0', u'0', u'1', u'0'], u'9(8)': [u'1', u'1', u'0', u'1', u'1', u'1', u'0', u'1', u'1'], u'5(4)': [u'0', u'1', u'0', u'1', u'1', u'0', u'0', u'1', u'0']}\n"
       ]
      }
     ],
     "prompt_number": 3
    },
    {
     "cell_type": "code",
     "collapsed": false,
     "input": [
      "# parse post index data to arrays\n",
      "\n",
      "items = []\n",
      "classes = []\n",
      "for item in data:\n",
      "    items.append(data[item])\n",
      "    classes.append((item.split('(')[1][:-1]))\n",
      "\n",
      "items = np.array(items)\n",
      "\n",
      "vecToStr = np.vectorize(str)\n",
      "items = vecToStr(items)\n",
      "classes = np.array(classes)"
     ],
     "language": "python",
     "metadata": {},
     "outputs": [],
     "prompt_number": 4
    },
    {
     "cell_type": "code",
     "collapsed": true,
     "input": [
      "# repeat items to increase train set\n",
      "repeat_count = 80\n",
      "repeated_items = items.repeat(repeat_count, axis = 0)\n",
      "repeated_item_classes = classes.repeat(repeat_count, axis = 0)"
     ],
     "language": "python",
     "metadata": {},
     "outputs": [],
     "prompt_number": 5
    },
    {
     "cell_type": "code",
     "collapsed": false,
     "input": [
      "noised_repeated_items = repeated_items.copy()\n",
      "for item in noised_repeated_items:\n",
      "    pos = np.random.choice(len(item))\n",
      "    if flip(0.05):\n",
      "        item[pos] = \"0\""
     ],
     "language": "python",
     "metadata": {},
     "outputs": [],
     "prompt_number": 38
    },
    {
     "cell_type": "code",
     "collapsed": false,
     "input": [
      "sw = scidi_wrapper.ScidiWrapper()"
     ],
     "language": "python",
     "metadata": {},
     "outputs": [],
     "prompt_number": 39
    },
    {
     "cell_type": "code",
     "collapsed": false,
     "input": [
      "sw.setData(noised_repeated_items)"
     ],
     "language": "python",
     "metadata": {},
     "outputs": [],
     "prompt_number": 40
    },
    {
     "cell_type": "code",
     "collapsed": false,
     "input": [
      "sw.makeRules(0.05, 0.5, 0.7, 2)\n",
      "print(len(sw.getRules()))"
     ],
     "language": "python",
     "metadata": {},
     "outputs": [
      {
       "output_type": "stream",
       "stream": "stdout",
       "text": [
        "6604\n"
       ]
      }
     ],
     "prompt_number": 41
    },
    {
     "cell_type": "code",
     "collapsed": false,
     "input": [
      "sw.makeClasses()"
     ],
     "language": "python",
     "metadata": {},
     "outputs": [],
     "prompt_number": 42
    },
    {
     "cell_type": "code",
     "collapsed": false,
     "input": [
      "sw.getClasses()[::2*repeat_count]"
     ],
     "language": "python",
     "metadata": {},
     "outputs": [
      {
       "metadata": {},
       "output_type": "pyout",
       "prompt_number": 43,
       "text": [
        "(0, 2, 5, 9, 4, 11, 11, 2, 1, 5)"
       ]
      }
     ],
     "prompt_number": 43
    },
    {
     "cell_type": "code",
     "collapsed": false,
     "input": [
      "len(np.unique(sw.getClasses()))"
     ],
     "language": "python",
     "metadata": {},
     "outputs": [
      {
       "metadata": {},
       "output_type": "pyout",
       "prompt_number": 44,
       "text": [
        "14"
       ]
      }
     ],
     "prompt_number": 44
    },
    {
     "cell_type": "code",
     "collapsed": false,
     "input": [
      "repeated_item_classes[::2*repeat_count]"
     ],
     "language": "python",
     "metadata": {},
     "outputs": [
      {
       "metadata": {},
       "output_type": "pyout",
       "prompt_number": 45,
       "text": [
        "array([u'3', u'9', u'8', u'1', u'5', u'2', u'2', u'9', u'7', u'8'], \n",
        "      dtype='<U1')"
       ]
      }
     ],
     "prompt_number": 45
    },
    {
     "cell_type": "code",
     "collapsed": false,
     "input": [
      "with_noise = sw.getIdealObjects()"
     ],
     "language": "python",
     "metadata": {},
     "outputs": [],
     "prompt_number": 46
    },
    {
     "cell_type": "code",
     "collapsed": false,
     "input": [
      "without_noise"
     ],
     "language": "python",
     "metadata": {},
     "outputs": [
      {
       "metadata": {},
       "output_type": "pyout",
       "prompt_number": 37,
       "text": [
        "(('|1', '|0', '|1', '|0', '|1', '|0', '|1', '|0', '|0'),\n",
        " ('|1', '|1', '|0', '|1', '|1', '|0', '|1', '|0', '|0'),\n",
        " ('|1', '|1', '|0', '|0', '|1', '|0', '|0', '|1', '|1'),\n",
        " ('|1', '|1', '|0', '|1', '|1', '|1', '|0', '|1', '|1'),\n",
        " ('|0', '|0', '|1', '|0', '|1', '|1', '|0', '|1', '|1'),\n",
        " ('|0', '|0', '|1', '|1', '|0', '|0', '|0', '|1', '|0'),\n",
        " ('|1', '|1', '|0', '|1', '|0', '|1', '|0', '|1', '|1'),\n",
        " ('|1', '|0', '|0', '|1', '|0', '|0', '|1', '|0', '|1'),\n",
        " ('|1', '|0', '|1', '|0', '|0', '|1', '|0', '|0', '|0'),\n",
        " ('|0', '|1', '|0', '|1', '|1', '|0', '|0', '|1', '|0'))"
       ]
      }
     ],
     "prompt_number": 37
    },
    {
     "cell_type": "code",
     "collapsed": false,
     "input": [
      "set_no_noise = set(without_noise)"
     ],
     "language": "python",
     "metadata": {},
     "outputs": [],
     "prompt_number": 49
    },
    {
     "cell_type": "code",
     "collapsed": false,
     "input": [
      "set_with_noise = set(with_noise)"
     ],
     "language": "python",
     "metadata": {},
     "outputs": [],
     "prompt_number": 50
    },
    {
     "cell_type": "code",
     "collapsed": false,
     "input": [
      "set_with_noise - set_no_noise "
     ],
     "language": "python",
     "metadata": {},
     "outputs": [
      {
       "metadata": {},
       "output_type": "pyout",
       "prompt_number": 52,
       "text": [
        "{('|1', '|0', '|0', '|1', '|1', '|0', '|1', '|0', '|0'),\n",
        " ('|1', '|1', '|0', '|0', '|1', '|1', '|0', '|1', '|1'),\n",
        " ('|1', '|1', '|0', '|1', '|0', '|1', '|0', '|1', '|0'),\n",
        " ('|1', '|1', '|0', '|1', '|1', '|1', '|1', '|1', '|0')}"
       ]
      }
     ],
     "prompt_number": 52
    },
    {
     "cell_type": "code",
     "collapsed": false,
     "input": [],
     "language": "python",
     "metadata": {},
     "outputs": []
    }
   ],
   "metadata": {}
  }
 ]
}