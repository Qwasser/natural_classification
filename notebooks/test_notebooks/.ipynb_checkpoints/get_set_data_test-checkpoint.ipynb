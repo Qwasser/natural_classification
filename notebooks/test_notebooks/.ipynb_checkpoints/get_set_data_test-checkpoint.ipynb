{
 "metadata": {
  "name": "",
  "signature": "sha256:a23e33f6f1433350c15b226e131fdbb7282ff5abb6d7b43e81a7ca695f9dc4c3"
 },
 "nbformat": 3,
 "nbformat_minor": 0,
 "worksheets": [
  {
   "cells": [
    {
     "cell_type": "markdown",
     "metadata": {},
     "source": [
      "## Basic wrapper tests and usage examples ##"
     ]
    },
    {
     "cell_type": "code",
     "collapsed": false,
     "input": [
      "import os\n",
      "os.chdir(\"..\")"
     ],
     "language": "python",
     "metadata": {},
     "outputs": [],
     "prompt_number": 1
    },
    {
     "cell_type": "code",
     "collapsed": false,
     "input": [
      "# import the wrapper\n",
      "from compiled_wrapper import scidi_wrapper"
     ],
     "language": "python",
     "metadata": {},
     "outputs": [],
     "prompt_number": 2
    },
    {
     "cell_type": "code",
     "collapsed": false,
     "input": [
      "# general imports\n",
      "import pandas"
     ],
     "language": "python",
     "metadata": {},
     "outputs": [],
     "prompt_number": 4
    },
    {
     "cell_type": "code",
     "collapsed": false,
     "input": [
      "# data loading\n",
      "data = pandas.read_csv(\"test_data/led_500_5\", header=None)"
     ],
     "language": "python",
     "metadata": {},
     "outputs": [],
     "prompt_number": 26
    },
    {
     "cell_type": "code",
     "collapsed": false,
     "input": [
      "# convert data items to string\n",
      "str_data = data.values.astype(str)\n",
      "str_data[:10]"
     ],
     "language": "python",
     "metadata": {},
     "outputs": [
      {
       "metadata": {},
       "output_type": "pyout",
       "prompt_number": 27,
       "text": [
        "array([['1', '0', '1', '1', '1', '0', '1', '2'],\n",
        "       ['1', '1', '0', '1', '1', '1', '1', '6'],\n",
        "       ['1', '1', '1', '1', '0', '1', '1', '9'],\n",
        "       ['1', '0', '1', '1', '1', '0', '1', '2'],\n",
        "       ['1', '0', '1', '1', '1', '0', '1', '2'],\n",
        "       ['0', '1', '1', '1', '0', '1', '0', '4'],\n",
        "       ['1', '0', '1', '1', '0', '1', '1', '3'],\n",
        "       ['1', '0', '1', '0', '0', '1', '0', '7'],\n",
        "       ['1', '1', '0', '1', '0', '1', '1', '5'],\n",
        "       ['1', '1', '1', '0', '1', '1', '1', '0']], \n",
        "      dtype='|S21')"
       ]
      }
     ],
     "prompt_number": 27
    },
    {
     "cell_type": "code",
     "collapsed": false,
     "input": [
      "sw = scidi_wrapper.ScidiWrapper()"
     ],
     "language": "python",
     "metadata": {},
     "outputs": [],
     "prompt_number": 22
    },
    {
     "cell_type": "code",
     "collapsed": false,
     "input": [
      "sw.setData(str_data)"
     ],
     "language": "python",
     "metadata": {},
     "outputs": [],
     "prompt_number": 23
    },
    {
     "cell_type": "code",
     "collapsed": false,
     "input": [
      "sw.getData()[:10]"
     ],
     "language": "python",
     "metadata": {},
     "outputs": [
      {
       "metadata": {},
       "output_type": "pyout",
       "prompt_number": 28,
       "text": [
        "(('1', '0', '1', '1', '1', '0', '1', '2'),\n",
        " ('1', '1', '0', '1', '1', '1', '1', '6'),\n",
        " ('1', '1', '1', '1', '0', '1', '1', '9'),\n",
        " ('1', '0', '1', '1', '1', '0', '1', '2'),\n",
        " ('1', '0', '1', '1', '1', '0', '1', '2'),\n",
        " ('0', '1', '1', '1', '0', '1', '0', '4'),\n",
        " ('1', '0', '1', '1', '0', '1', '1', '3'),\n",
        " ('1', '0', '1', '0', '0', '1', '0', '7'),\n",
        " ('1', '1', '0', '1', '0', '1', '1', '5'),\n",
        " ('1', '1', '1', '0', '1', '1', '1', '0'))"
       ]
      }
     ],
     "prompt_number": 28
    },
    {
     "cell_type": "code",
     "collapsed": false,
     "input": [],
     "language": "python",
     "metadata": {},
     "outputs": []
    }
   ],
   "metadata": {}
  }
 ]
}