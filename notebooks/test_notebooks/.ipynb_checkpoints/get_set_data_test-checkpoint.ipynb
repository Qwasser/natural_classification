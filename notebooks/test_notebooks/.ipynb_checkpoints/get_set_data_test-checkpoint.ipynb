{
 "metadata": {
  "name": "",
  "signature": "sha256:2c1f9685e236a4b69ae2cd2a53d740ab715ec6383d15e74f3c89685ca5deff3d"
 },
 "nbformat": 3,
 "nbformat_minor": 0,
 "worksheets": [
  {
   "cells": [
    {
     "cell_type": "markdown",
     "metadata": {},
     "source": [
      "## Basic wrapper tests and usage examples ##"
     ]
    },
    {
     "cell_type": "code",
     "collapsed": false,
     "input": [
      "import os\n",
      "os.chdir(\"..\")\n"
     ],
     "language": "python",
     "metadata": {},
     "outputs": [],
     "prompt_number": 3
    },
    {
     "cell_type": "code",
     "collapsed": false,
     "input": [
      "# import the wrapper\n",
      "from compiled_wrapper import scidi_wrapper"
     ],
     "language": "python",
     "metadata": {},
     "outputs": [],
     "prompt_number": 4
    },
    {
     "cell_type": "code",
     "collapsed": false,
     "input": [
      "# general imports\n",
      "import pandas\n",
      "import numpy as np"
     ],
     "language": "python",
     "metadata": {},
     "outputs": [],
     "prompt_number": 5
    },
    {
     "cell_type": "code",
     "collapsed": false,
     "input": [
      "# data loading\n",
      "data = pandas.read_csv(\"test_data/led_500_5\", header=None)"
     ],
     "language": "python",
     "metadata": {},
     "outputs": [],
     "prompt_number": 6
    },
    {
     "cell_type": "code",
     "collapsed": false,
     "input": [
      "# convert data items to string\n",
      "str_data = data.values.astype(str)\n",
      "str_data[:10]"
     ],
     "language": "python",
     "metadata": {},
     "outputs": [
      {
       "metadata": {},
       "output_type": "pyout",
       "prompt_number": 7,
       "text": [
        "array([['1', '0', '1', '1', '1', '0', '1', '2'],\n",
        "       ['1', '1', '0', '1', '1', '1', '1', '6'],\n",
        "       ['1', '1', '1', '1', '0', '1', '1', '9'],\n",
        "       ['1', '0', '1', '1', '1', '0', '1', '2'],\n",
        "       ['1', '0', '1', '1', '1', '0', '1', '2'],\n",
        "       ['0', '1', '1', '1', '0', '1', '0', '4'],\n",
        "       ['1', '0', '1', '1', '0', '1', '1', '3'],\n",
        "       ['1', '0', '1', '0', '0', '1', '0', '7'],\n",
        "       ['1', '1', '0', '1', '0', '1', '1', '5'],\n",
        "       ['1', '1', '1', '0', '1', '1', '1', '0']], \n",
        "      dtype='|S21')"
       ]
      }
     ],
     "prompt_number": 7
    },
    {
     "cell_type": "code",
     "collapsed": false,
     "input": [
      "sw = scidi_wrapper.ScidiWrapper()"
     ],
     "language": "python",
     "metadata": {},
     "outputs": [],
     "prompt_number": 8
    },
    {
     "cell_type": "code",
     "collapsed": false,
     "input": [
      "sw.setData(str_data[:25])"
     ],
     "language": "python",
     "metadata": {},
     "outputs": [],
     "prompt_number": 9
    },
    {
     "cell_type": "code",
     "collapsed": false,
     "input": [
      "sw.getData()[:10]"
     ],
     "language": "python",
     "metadata": {},
     "outputs": [
      {
       "metadata": {},
       "output_type": "pyout",
       "prompt_number": 10,
       "text": [
        "(('1', '0', '1', '1', '1', '0', '1', '2'),\n",
        " ('1', '1', '0', '1', '1', '1', '1', '6'),\n",
        " ('1', '1', '1', '1', '0', '1', '1', '9'),\n",
        " ('1', '0', '1', '1', '1', '0', '1', '2'),\n",
        " ('1', '0', '1', '1', '1', '0', '1', '2'),\n",
        " ('0', '1', '1', '1', '0', '1', '0', '4'),\n",
        " ('1', '0', '1', '1', '0', '1', '1', '3'),\n",
        " ('1', '0', '1', '0', '0', '1', '0', '7'),\n",
        " ('1', '1', '0', '1', '0', '1', '1', '5'),\n",
        " ('1', '1', '1', '0', '1', '1', '1', '0'))"
       ]
      }
     ],
     "prompt_number": 10
    },
    {
     "cell_type": "code",
     "collapsed": false,
     "input": [
      "sw.makeRules(.01, 0.7, 0.8, 2)"
     ],
     "language": "python",
     "metadata": {},
     "outputs": [],
     "prompt_number": 11
    },
    {
     "cell_type": "code",
     "collapsed": false,
     "input": [
      "np.array(sw.getFisher()).max()"
     ],
     "language": "python",
     "metadata": {},
     "outputs": [
      {
       "metadata": {},
       "output_type": "pyout",
       "prompt_number": 12,
       "text": [
        "0.0016479790350326612"
       ]
      }
     ],
     "prompt_number": 12
    },
    {
     "cell_type": "code",
     "collapsed": false,
     "input": [
      "sw.getRules()"
     ],
     "language": "python",
     "metadata": {},
     "outputs": [
      {
       "metadata": {},
       "output_type": "pyout",
       "prompt_number": 13,
       "text": [
        "('4=1 & 6=1 => 2=1',\n",
        " '4=1 & 6= not 0 => 2=1',\n",
        " '4=1 & 8= not 2 => 2=1',\n",
        " '4= not 0 & 6=1 => 2=1',\n",
        " '4= not 0 & 6= not 0 => 2=1',\n",
        " '4= not 0 & 8= not 2 => 2=1',\n",
        " '4=1 & 6=1 => 2= not 0',\n",
        " '4=1 & 6= not 0 => 2= not 0',\n",
        " '4=1 & 8= not 2 => 2= not 0',\n",
        " '4= not 0 & 6=1 => 2= not 0',\n",
        " '4= not 0 & 6= not 0 => 2= not 0',\n",
        " '4= not 0 & 8= not 2 => 2= not 0',\n",
        " '8= not 5 => 3=1',\n",
        " '8=5 => 3=0',\n",
        " '8=5 => 3= not 1',\n",
        " '8= not 5 => 3= not 0',\n",
        " '2=1 & 8= not 0 => 4=1',\n",
        " '2= not 0 & 8= not 0 => 4=1',\n",
        " '2=1 & 8= not 0 => 4= not 0',\n",
        " '2= not 0 & 8= not 0 => 4= not 0',\n",
        " '8= not 2 => 6=1',\n",
        " '8=2 => 6=0',\n",
        " '8=2 => 6= not 1',\n",
        " '8= not 2 => 6= not 0')"
       ]
      }
     ],
     "prompt_number": 13
    },
    {
     "cell_type": "code",
     "collapsed": false,
     "input": [
      "sw.makeClasses()"
     ],
     "language": "python",
     "metadata": {},
     "outputs": [],
     "prompt_number": 14
    },
    {
     "cell_type": "code",
     "collapsed": false,
     "input": [
      "sw.getClasses()"
     ],
     "language": "python",
     "metadata": {},
     "outputs": [
      {
       "metadata": {},
       "output_type": "pyout",
       "prompt_number": 15,
       "text": [
        "(0, 1, 2, 0, 0, 3, 4, 5, 6, 7, 8, 0, 9, 10, 2, 6, 6, 2, 2, 6, 7, 8, 9, 5, 2)"
       ]
      }
     ],
     "prompt_number": 15
    },
    {
     "cell_type": "code",
     "collapsed": false,
     "input": [],
     "language": "python",
     "metadata": {},
     "outputs": []
    }
   ],
   "metadata": {}
  }
 ]
}